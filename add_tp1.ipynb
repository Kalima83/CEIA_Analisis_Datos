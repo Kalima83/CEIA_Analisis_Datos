{
 "cells": [
  {
   "cell_type": "markdown",
   "id": "af2fe349",
   "metadata": {},
   "source": [
    "# Trabajo Práctico Integrador 1\n",
    "\n",
    "## Análisis de datos\n",
    "\n",
    "#### Integrantes\n",
    "- Daniel Bazan\n",
    "- Santiago Casado"
   ]
  },
  {
   "cell_type": "markdown",
   "id": "0c21c868",
   "metadata": {},
   "source": [
    "##| 1. Dataset seleccionado\n",
    "\n",
    "### **Conflictos armados en ciudades (Cities and Armed Conflict Events, CACE)**\n",
    "\n",
    "** explicar el dataset **\n",
    "\n",
    "** info para descargar desde la api"
   ]
  },
  {
   "cell_type": "code",
   "execution_count": 47,
   "id": "0e2f3053",
   "metadata": {},
   "outputs": [],
   "source": [
    "import pandas as pd\n",
    "from bs4 import BeautifulSoup\n",
    "from sqlalchemy import create_engine, MetaData, text\n",
    "import json\n",
    "import matplotlib.pyplot as plt\n",
    "import seaborn as sns\n",
    "from io import StringIO"
   ]
  },
  {
   "cell_type": "markdown",
   "id": "c1e5c658",
   "metadata": {},
   "source": [
    "#### a. Descargar el dataset a través de la página oficial\n",
    "\n",
    "Observando el archivo, se tuvo que agregar el delimitador \";\" para poder importarlo correctamente."
   ]
  },
  {
   "cell_type": "code",
   "execution_count": 48,
   "id": "8cba13c7",
   "metadata": {},
   "outputs": [
    {
     "name": "stderr",
     "output_type": "stream",
     "text": [
      "/var/folders/_f/7gqqb6190c9b0h_7dkhypsj80000gn/T/ipykernel_1326/2020675959.py:4: DtypeWarning: Columns (8,15,17,18,19,20,43) have mixed types. Specify dtype option on import or set low_memory=False.\n",
      "  df = pd.read_csv(path, delimiter=';')\n"
     ]
    }
   ],
   "source": [
    "path = \"dataset/CACE_1989-2017.csv\"\n",
    "\n",
    "# df = pd.read_csv(path, delimiter=';', low_memory=False)\n",
    "df = pd.read_csv(path, delimiter=';')"
   ]
  },
  {
   "cell_type": "markdown",
   "id": "f687ce74",
   "metadata": {},
   "source": [
    "## 2. Pre-procesamiento de los datos"
   ]
  },
  {
   "cell_type": "markdown",
   "id": "063cbd1c",
   "metadata": {},
   "source": [
    "#### a. Columnas y tipos de datos"
   ]
  },
  {
   "cell_type": "code",
   "execution_count": 49,
   "id": "cb965d89",
   "metadata": {},
   "outputs": [
    {
     "data": {
      "text/plain": [
       "Index(['id', 'active_year', 'type_of_violence', 'conflict_new_id',\n",
       "       'conflict_name', 'dyad_new_id', 'dyad_name', 'side_a_new_id', 'gwnoa',\n",
       "       'side_a', 'side_b_new_id', 'gwnob', 'side_b', 'where_prec',\n",
       "       'where_coordinates', 'City', 'CACE cityname', 'Capital', 'Majorcity',\n",
       "       'Top3cities', 'Comment', 'adm_1', 'adm_2', 'latitude', 'longitude',\n",
       "       'geom_wkt', 'priogrid_gid', 'country', 'country_id', 'region',\n",
       "       'event_clarity', 'date_prec', 'year', 'date_start', 'date_end',\n",
       "       'deaths_a', 'deaths_b', 'deaths_civilians', 'deaths_unknown', 'best',\n",
       "       'low', 'high', 'Unnamed: 42', 'Unnamed: 43'],\n",
       "      dtype='object')"
      ]
     },
     "execution_count": 49,
     "metadata": {},
     "output_type": "execute_result"
    }
   ],
   "source": [
    "df.columns"
   ]
  },
  {
   "cell_type": "markdown",
   "id": "64ecfcf8",
   "metadata": {},
   "source": [
    "#### b. Detalles de las columnas del dataset\n",
    "\n",
    "**Fecha**\n",
    "| Columna       | Descripción                                                |\n",
    "| ------------- | ---------------------------------------------------------- |\n",
    "| `active_year` | Estado del conflicto en ese año (1 = activo, 0 = no activo) |\n",
    "| `year`        | Año del evento |\n",
    "| `date_start`  | Fecha de inicio del evento |\n",
    "| `date_end`    | Fecha de fin del evento |\n",
    "| `date_prec`   | Precisión de la fecha (1 = exacta, 5 = mas de un mes, menos de un año)|\n",
    "\n",
    "**Ubicacion**\n",
    "| Columna             | Descripción                                                          |\n",
    "| ------------------- | -------------------------------------------------------------------- |\n",
    "| `where_prec`        | Precisión de la ubicación geográfica (1 = exacta, 3 = incierta) |\n",
    "| `where_coordinates` | Nombre del lugar del evento |\n",
    "| `adm_1`             | División administrativa de primer nivel (estado, provincia, etc) |\n",
    "| `adm_2`             | División administrativa de segundo nivel (municipio, distrito, etc)|\n",
    "| `latitude`          | Latitud del evento |\n",
    "| `longitude`         | Longitud del evento |\n",
    "| `geom_wkt`          | Representación geográfica en formato WKT|\n",
    "| `priogrid_gid`      | ID de celda espacial de 0.5° x 0.5° (Priogrid)|\n",
    "| `country`           | Nombre del país |\n",
    "| `country_id`        | Código del país según Gleditsch & Ward |\n",
    "| `region`            | Región geográfica amplia (America, Asia, etc.)|\n",
    "| `City`              | 1 = ocurrió en ciudad (>100.000 hab.), 0 = no |\n",
    "| `CACE cityname`     | Nombre de la ciudad si es evento urbano según ONU |\n",
    "| `Capital`           | 1 = ocurrió en capital nacional |\n",
    "| `Majorcity`         | 1 = ocurrió en ciudad de más de 750.000 habitantes |\n",
    "| `Top3cities`        | Indica si ocurrió en una de las tres ciudades más grandes del país|\n",
    "\n",
    "**Entidades participantes**\n",
    "| Columna            | Descripción                                                     |\n",
    "| ------------------ | --------------------------------------------------------------- |\n",
    "| `type_of_violence` | Tipo de violencia: 1 = estatal, 2 = no estatal, 3 = unilateral  |\n",
    "| `conflict_new_id`  | ID conflicto |\n",
    "| `conflict_name`    | Nombre del conflicto |\n",
    "| `dyad_new_id`      | ID de la díada (relación entre dos actores)|\n",
    "| `dyad_name`        | Par de actores que interactúan entre sí|\n",
    "| `side_a_new_id`    | ID del actor A |\n",
    "| `gwnoa`            | Código de país del actor A|\n",
    "| `side_a`           | Nombre del actor que inicia el evento|\n",
    "| `side_b_new_id`    | ID del actor B|\n",
    "| `gwnob`            | Código de país del actor B|\n",
    "| `side_b`           | Nombre del actor que es atacado (puede ser vacío)|\n",
    "\n",
    "**Víctimas**\n",
    "| Columna            | Descripción                                          |\n",
    "| ------------------ | ---------------------------------------------------- |\n",
    "| `deaths_a`         | Muertes en el actor A |\n",
    "| `deaths_b`         | Muertes en el actor B |\n",
    "| `deaths_civilians` | Muertes de civiles |\n",
    "| `deaths_unknown`   | Muertes no clasificadas |\n",
    "| `best`             | Estimación central de muertes totales |\n",
    "| `low`              | Estimación mínima |\n",
    "| `high`             | Estimación máxima |\n",
    "\n",
    "**Datos prescindibles**\n",
    "| Columna         | Descripción                                                            |\n",
    "| --------------- | ---------------------------------------------------------------------- |\n",
    "| `id`            | ID general del evento |\n",
    "| `event_clarity` | Grado de certeza del evento (1 = claro, 3 = dudoso) |\n",
    "| `Comment`       | Comentarios |\n",
    "| `Unnamed: 42`   | Columna sin nombre |\n",
    "| `Unnamed: 43`   | Columna sin nombre |\n"
   ]
  },
  {
   "cell_type": "markdown",
   "id": "47a7b30b",
   "metadata": {},
   "source": [
    "#### c. Eliminación de columnas"
   ]
  },
  {
   "cell_type": "markdown",
   "id": "e1d10024",
   "metadata": {},
   "source": [
    "Se eliminan las columnas con información redundante o que no aporten valor para un modelo de machine learning."
   ]
  },
  {
   "cell_type": "code",
   "execution_count": 50,
   "id": "82f5411e",
   "metadata": {},
   "outputs": [],
   "source": [
    "columnasPrescindibles = [\n",
    "    'id',                     \n",
    "    'conflict_name',          # Redundante con side_a, side_b y dyad\n",
    "    'side_a_new_id',          \n",
    "    'side_b_new_id',\n",
    "    'gwnoa',                  # Redundante con country\n",
    "    'gwnob',\n",
    "    'country_id',             \n",
    "    'geom_wkt',               # Para la ubicación se utilizará la longitud y latitud\n",
    "    'where_coordinates',      # Texto libre, no aporta valor\n",
    "    'Comment',                # Taxto libre, no aporta valor\n",
    "    'Unnamed: 42',            # Columnas vacías\n",
    "    'Unnamed: 43',\n",
    "    'event_clarity',          # Precisión de claridad de evento, no ayuda a la predicción\n",
    "    'date_prec',              # Precisión de fecha, no ayuda a la predicción\n",
    "    'where_prec',             # Precisión de ubicación, no ayuda a la predicción\n",
    "    'conflict_new_id',        \n",
    "    'dyad_new_id',            \n",
    "    'priogrid_gid'            # Para la ubicación se utilizará la longitud y latitud\n",
    "]\n",
    "\n",
    "df_cace = df.drop(columns=columnasPrescindibles, axis = 1)"
   ]
  },
  {
   "cell_type": "markdown",
   "id": "e77cd34f",
   "metadata": {},
   "source": [
    "#### d. Datos faltantes o duplicados"
   ]
  },
  {
   "cell_type": "code",
   "execution_count": 51,
   "id": "053c7402",
   "metadata": {},
   "outputs": [
    {
     "name": "stdout",
     "output_type": "stream",
     "text": [
      "Valores faltantes: active_year              0\n",
      "type_of_violence         0\n",
      "dyad_name                0\n",
      "side_a                   0\n",
      "side_b                   0\n",
      "City                     0\n",
      "CACE cityname       117996\n",
      "Capital                  0\n",
      "Majorcity                0\n",
      "Top3cities               0\n",
      "adm_1                 7237\n",
      "adm_2                37225\n",
      "latitude                 0\n",
      "longitude                0\n",
      "country                  0\n",
      "region                   0\n",
      "year                     0\n",
      "date_start               0\n",
      "date_end                 0\n",
      "deaths_a                 0\n",
      "deaths_b                 0\n",
      "deaths_civilians         0\n",
      "deaths_unknown           0\n",
      "best                     0\n",
      "low                      0\n",
      "high                     0\n",
      "dtype: int64\n"
     ]
    }
   ],
   "source": [
    "print(f\"Valores faltantes: {df_cace.isna().sum()}\")  # Calcular valores faltantes"
   ]
  },
  {
   "cell_type": "code",
   "execution_count": 52,
   "id": "a2e0905e",
   "metadata": {},
   "outputs": [
    {
     "data": {
      "text/plain": [
       "active_year          0.0\n",
       "type_of_violence     0.0\n",
       "dyad_name            0.0\n",
       "side_a               0.0\n",
       "side_b               0.0\n",
       "City                 0.0\n",
       "CACE cityname       83.0\n",
       "Capital              0.0\n",
       "Majorcity            0.0\n",
       "Top3cities           0.0\n",
       "adm_1                5.0\n",
       "adm_2               26.0\n",
       "latitude             0.0\n",
       "longitude            0.0\n",
       "country              0.0\n",
       "region               0.0\n",
       "year                 0.0\n",
       "date_start           0.0\n",
       "date_end             0.0\n",
       "deaths_a             0.0\n",
       "deaths_b             0.0\n",
       "deaths_civilians     0.0\n",
       "deaths_unknown       0.0\n",
       "best                 0.0\n",
       "low                  0.0\n",
       "high                 0.0\n",
       "dtype: float64"
      ]
     },
     "execution_count": 52,
     "metadata": {},
     "output_type": "execute_result"
    }
   ],
   "source": [
    "# Calcular la proporción de valores nulos en cada columna\n",
    "df_cace.isna().mean().round(2)*100"
   ]
  },
  {
   "cell_type": "code",
   "execution_count": 53,
   "id": "ec7001f8",
   "metadata": {},
   "outputs": [
    {
     "name": "stdout",
     "output_type": "stream",
     "text": [
      "Cantidad de datos duplicados: 1389\n"
     ]
    }
   ],
   "source": [
    "print(\"Cantidad de datos duplicados:\", df_cace.duplicated().sum())"
   ]
  },
  {
   "cell_type": "markdown",
   "id": "9d331ff1",
   "metadata": {},
   "source": [
    "Se eliminan los datos duplicados:"
   ]
  },
  {
   "cell_type": "code",
   "execution_count": 54,
   "id": "6754c0ac",
   "metadata": {},
   "outputs": [
    {
     "name": "stdout",
     "output_type": "stream",
     "text": [
      "Cantidad de datos duplicados: 0\n"
     ]
    }
   ],
   "source": [
    "df_cace = df_cace.drop_duplicates()\n",
    "\n",
    "print(\"Cantidad de datos duplicados:\", df_cace.duplicated().sum())"
   ]
  },
  {
   "cell_type": "markdown",
   "id": "20bea2e5",
   "metadata": {},
   "source": [
    "Finalmente, el dataset tiene la siguiente dimensión:"
   ]
  },
  {
   "cell_type": "code",
   "execution_count": 60,
   "id": "a6836505",
   "metadata": {},
   "outputs": [
    {
     "data": {
      "text/plain": [
       "(141513, 26)"
      ]
     },
     "execution_count": 60,
     "metadata": {},
     "output_type": "execute_result"
    }
   ],
   "source": [
    "df_cace.shape"
   ]
  },
  {
   "cell_type": "markdown",
   "id": "56e1caa2",
   "metadata": {},
   "source": [
    "#### e. Correción de tipo de datos"
   ]
  },
  {
   "cell_type": "markdown",
   "id": "e8b8f969",
   "metadata": {},
   "source": [
    "Se identifican las columnas con distintos tipo de datos y se unifica:"
   ]
  },
  {
   "cell_type": "code",
   "execution_count": 55,
   "id": "b89c7d7b",
   "metadata": {},
   "outputs": [
    {
     "name": "stdout",
     "output_type": "stream",
     "text": [
      "\n",
      " Columna 5: City\n",
      "Tipos encontrados: [<class 'int'> <class 'str'>]\n",
      "  - Tipo <class 'int'>: [1, 1]\n",
      "  - Tipo <class 'str'>: ['0', '0']\n",
      "\n",
      " Columna 6: CACE cityname\n",
      "Tipos encontrados: [<class 'str'> <class 'float'>]\n",
      "  - Tipo <class 'str'>: ['Şan‘ā’', '‘Adan ']\n",
      "  - Tipo <class 'float'>: [nan, nan]\n",
      "\n",
      " Columna 7: Capital\n",
      "Tipos encontrados: [<class 'int'> <class 'str'>]\n",
      "  - Tipo <class 'int'>: [1, 0]\n",
      "  - Tipo <class 'str'>: ['0', '0']\n",
      "\n",
      " Columna 8: Majorcity\n",
      "Tipos encontrados: [<class 'int'> <class 'str'>]\n",
      "  - Tipo <class 'int'>: [1, 0]\n",
      "  - Tipo <class 'str'>: ['0', '0']\n",
      "\n",
      " Columna 9: Top3cities\n",
      "Tipos encontrados: [<class 'int'> <class 'str'>]\n",
      "  - Tipo <class 'int'>: [1, 0]\n",
      "  - Tipo <class 'str'>: ['0', '0']\n",
      "\n",
      " Columna 10: adm_1\n",
      "Tipos encontrados: [<class 'str'> <class 'float'>]\n",
      "  - Tipo <class 'str'>: ['Am?nat al ‘??imah governorate', '‘Adan governorate']\n",
      "  - Tipo <class 'float'>: [nan, nan]\n",
      "\n",
      " Columna 11: adm_2\n",
      "Tipos encontrados: [<class 'float'> <class 'str'>]\n",
      "  - Tipo <class 'float'>: [nan, nan]\n",
      "  - Tipo <class 'str'>: ['Ma’rib district', '‘Ataq district']\n"
     ]
    }
   ],
   "source": [
    "columnasMuchosTipos = []\n",
    "\n",
    "i = 0\n",
    "for col in df_cace.columns:\n",
    "    unique_types = df_cace[col].apply(type).unique()\n",
    "    if len(unique_types) > 1:\n",
    "        columnasMuchosTipos.append(col)\n",
    "        print(f\"\\n Columna {i}: {col}\")\n",
    "        print(\"Tipos encontrados:\", unique_types)\n",
    "        \n",
    "        #Se muestran 2 ejemplos para cada columna con mas de un tipo de dato\n",
    "        for dtype in unique_types:\n",
    "            examples = df_cace[df_cace[col].apply(lambda x: type(x) == dtype)][col].head(2).tolist()\n",
    "            print(f\"  - Tipo {dtype}: {examples}\")\n",
    "\n",
    "    i += 1"
   ]
  },
  {
   "cell_type": "code",
   "execution_count": null,
   "id": "f851db02",
   "metadata": {},
   "outputs": [
    {
     "name": "stdout",
     "output_type": "stream",
     "text": [
      "\n",
      "Tipos unificados:\n",
      "active_year                  int64\n",
      "type_of_violence             int64\n",
      "dyad_name                   object\n",
      "side_a                      object\n",
      "side_b                      object\n",
      "City                          int8\n",
      "CACE cityname               object\n",
      "Capital                       int8\n",
      "Majorcity                     int8\n",
      "Top3cities                    int8\n",
      "adm_1                       object\n",
      "adm_2                       object\n",
      "latitude                   float64\n",
      "longitude                  float64\n",
      "country                     object\n",
      "region                      object\n",
      "year                         int64\n",
      "date_start          datetime64[ns]\n",
      "date_end            datetime64[ns]\n",
      "deaths_a                     int64\n",
      "deaths_b                     int64\n",
      "deaths_civilians             int64\n",
      "deaths_unknown               int64\n",
      "best                         int64\n",
      "low                          int64\n",
      "high                         int64\n",
      "dtype: object\n"
     ]
    }
   ],
   "source": [
    "import datetime\n",
    "\n",
    "# Columnas binarias\n",
    "binary_cols = ['City', 'Capital', 'Majorcity', 'Top3cities']\n",
    "\n",
    "for col in binary_cols:\n",
    "    # Reemplazar valores conocidos\n",
    "    df_cace[col] = df_cace[col].replace({\n",
    "        '0': 0, '1': 1,\n",
    "        0: 0, 1: 1,\n",
    "        'True': 1, 'False': 0,\n",
    "        True: 1, False: 0\n",
    "    })\n",
    "    \n",
    "    # Convertir otros valores a NaN\n",
    "    df_cace[col] = pd.to_numeric(df_cace[col], errors='coerce')\n",
    "    \n",
    "    # Rellenar NaN con 0 o 1 según sea apropiado\n",
    "    df_cace[col] = df_cace[col].fillna(0).astype('int8')\n",
    "\n",
    "# Columnas de texto\n",
    "text_cols = ['side_a', 'side_b', 'CACE cityname', 'adm_1', 'adm_2', 'country', 'region']\n",
    "for col in text_cols:\n",
    "    df_cace[col] = df_cace[col].fillna('').astype(str)\n",
    "\n",
    "# Columnas de fechas\n",
    "date_cols = ['date_start', 'date_end']\n",
    "for col in date_cols:\n",
    "    df_cace[col] = pd.to_datetime(df_cace[col])\n",
    "\n",
    "print(\"\\nTipos unificados:\")\n",
    "print(df_cace.dtypes)"
   ]
  },
  {
   "cell_type": "markdown",
   "id": "58856fe5",
   "metadata": {},
   "source": [
    "#### f. Información general de dataset"
   ]
  },
  {
   "cell_type": "code",
   "execution_count": 61,
   "id": "e38f8a62",
   "metadata": {},
   "outputs": [
    {
     "data": {
      "text/html": [
       "<div>\n",
       "<style scoped>\n",
       "    .dataframe tbody tr th:only-of-type {\n",
       "        vertical-align: middle;\n",
       "    }\n",
       "\n",
       "    .dataframe tbody tr th {\n",
       "        vertical-align: top;\n",
       "    }\n",
       "\n",
       "    .dataframe thead th {\n",
       "        text-align: right;\n",
       "    }\n",
       "</style>\n",
       "<table border=\"1\" class=\"dataframe\">\n",
       "  <thead>\n",
       "    <tr style=\"text-align: right;\">\n",
       "      <th></th>\n",
       "      <th>active_year</th>\n",
       "      <th>type_of_violence</th>\n",
       "      <th>dyad_name</th>\n",
       "      <th>side_a</th>\n",
       "      <th>side_b</th>\n",
       "      <th>City</th>\n",
       "      <th>CACE cityname</th>\n",
       "      <th>Capital</th>\n",
       "      <th>Majorcity</th>\n",
       "      <th>Top3cities</th>\n",
       "      <th>...</th>\n",
       "      <th>year</th>\n",
       "      <th>date_start</th>\n",
       "      <th>date_end</th>\n",
       "      <th>deaths_a</th>\n",
       "      <th>deaths_b</th>\n",
       "      <th>deaths_civilians</th>\n",
       "      <th>deaths_unknown</th>\n",
       "      <th>best</th>\n",
       "      <th>low</th>\n",
       "      <th>high</th>\n",
       "    </tr>\n",
       "  </thead>\n",
       "  <tbody>\n",
       "    <tr>\n",
       "      <th>0</th>\n",
       "      <td>1</td>\n",
       "      <td>1</td>\n",
       "      <td>Government of Yemen (North Yemen) - AQAP</td>\n",
       "      <td>Government of Yemen (North Yemen)</td>\n",
       "      <td>AQAP</td>\n",
       "      <td>1</td>\n",
       "      <td>Şan‘ā’</td>\n",
       "      <td>1</td>\n",
       "      <td>1</td>\n",
       "      <td>1</td>\n",
       "      <td>...</td>\n",
       "      <td>2010</td>\n",
       "      <td>2010-09-25</td>\n",
       "      <td>2010-09-25</td>\n",
       "      <td>2</td>\n",
       "      <td>0</td>\n",
       "      <td>0</td>\n",
       "      <td>0</td>\n",
       "      <td>2</td>\n",
       "      <td>2</td>\n",
       "      <td>2</td>\n",
       "    </tr>\n",
       "    <tr>\n",
       "      <th>1</th>\n",
       "      <td>1</td>\n",
       "      <td>3</td>\n",
       "      <td>Government of Yemen (North Yemen) - Civilians</td>\n",
       "      <td>Government of Yemen (North Yemen)</td>\n",
       "      <td>Civilians</td>\n",
       "      <td>1</td>\n",
       "      <td>‘Adan</td>\n",
       "      <td>0</td>\n",
       "      <td>0</td>\n",
       "      <td>0</td>\n",
       "      <td>...</td>\n",
       "      <td>2011</td>\n",
       "      <td>2011-02-19</td>\n",
       "      <td>2011-02-19</td>\n",
       "      <td>0</td>\n",
       "      <td>0</td>\n",
       "      <td>0</td>\n",
       "      <td>0</td>\n",
       "      <td>0</td>\n",
       "      <td>0</td>\n",
       "      <td>2</td>\n",
       "    </tr>\n",
       "    <tr>\n",
       "      <th>2</th>\n",
       "      <td>1</td>\n",
       "      <td>1</td>\n",
       "      <td>Government of Yemen (North Yemen) - AQAP</td>\n",
       "      <td>Government of Yemen (North Yemen)</td>\n",
       "      <td>AQAP</td>\n",
       "      <td>0</td>\n",
       "      <td></td>\n",
       "      <td>0</td>\n",
       "      <td>0</td>\n",
       "      <td>0</td>\n",
       "      <td>...</td>\n",
       "      <td>2011</td>\n",
       "      <td>2011-04-16</td>\n",
       "      <td>2011-04-16</td>\n",
       "      <td>0</td>\n",
       "      <td>0</td>\n",
       "      <td>0</td>\n",
       "      <td>0</td>\n",
       "      <td>0</td>\n",
       "      <td>0</td>\n",
       "      <td>1</td>\n",
       "    </tr>\n",
       "    <tr>\n",
       "      <th>3</th>\n",
       "      <td>1</td>\n",
       "      <td>1</td>\n",
       "      <td>Government of Yemen (North Yemen) - AQAP</td>\n",
       "      <td>Government of Yemen (North Yemen)</td>\n",
       "      <td>AQAP</td>\n",
       "      <td>0</td>\n",
       "      <td></td>\n",
       "      <td>0</td>\n",
       "      <td>0</td>\n",
       "      <td>0</td>\n",
       "      <td>...</td>\n",
       "      <td>2012</td>\n",
       "      <td>2012-06-04</td>\n",
       "      <td>2012-06-04</td>\n",
       "      <td>4</td>\n",
       "      <td>1</td>\n",
       "      <td>0</td>\n",
       "      <td>0</td>\n",
       "      <td>5</td>\n",
       "      <td>5</td>\n",
       "      <td>5</td>\n",
       "    </tr>\n",
       "    <tr>\n",
       "      <th>4</th>\n",
       "      <td>1</td>\n",
       "      <td>1</td>\n",
       "      <td>Government of Yemen (North Yemen) - AQAP</td>\n",
       "      <td>Government of Yemen (North Yemen)</td>\n",
       "      <td>AQAP</td>\n",
       "      <td>0</td>\n",
       "      <td></td>\n",
       "      <td>0</td>\n",
       "      <td>0</td>\n",
       "      <td>0</td>\n",
       "      <td>...</td>\n",
       "      <td>2012</td>\n",
       "      <td>2012-12-09</td>\n",
       "      <td>2012-12-09</td>\n",
       "      <td>0</td>\n",
       "      <td>4</td>\n",
       "      <td>1</td>\n",
       "      <td>0</td>\n",
       "      <td>5</td>\n",
       "      <td>5</td>\n",
       "      <td>5</td>\n",
       "    </tr>\n",
       "  </tbody>\n",
       "</table>\n",
       "<p>5 rows × 26 columns</p>\n",
       "</div>"
      ],
      "text/plain": [
       "   active_year  type_of_violence  \\\n",
       "0            1                 1   \n",
       "1            1                 3   \n",
       "2            1                 1   \n",
       "3            1                 1   \n",
       "4            1                 1   \n",
       "\n",
       "                                       dyad_name  \\\n",
       "0       Government of Yemen (North Yemen) - AQAP   \n",
       "1  Government of Yemen (North Yemen) - Civilians   \n",
       "2       Government of Yemen (North Yemen) - AQAP   \n",
       "3       Government of Yemen (North Yemen) - AQAP   \n",
       "4       Government of Yemen (North Yemen) - AQAP   \n",
       "\n",
       "                              side_a     side_b  City CACE cityname  Capital  \\\n",
       "0  Government of Yemen (North Yemen)       AQAP     1        Şan‘ā’        1   \n",
       "1  Government of Yemen (North Yemen)  Civilians     1        ‘Adan         0   \n",
       "2  Government of Yemen (North Yemen)       AQAP     0                      0   \n",
       "3  Government of Yemen (North Yemen)       AQAP     0                      0   \n",
       "4  Government of Yemen (North Yemen)       AQAP     0                      0   \n",
       "\n",
       "   Majorcity  Top3cities  ...  year date_start   date_end  deaths_a deaths_b  \\\n",
       "0          1           1  ...  2010 2010-09-25 2010-09-25         2        0   \n",
       "1          0           0  ...  2011 2011-02-19 2011-02-19         0        0   \n",
       "2          0           0  ...  2011 2011-04-16 2011-04-16         0        0   \n",
       "3          0           0  ...  2012 2012-06-04 2012-06-04         4        1   \n",
       "4          0           0  ...  2012 2012-12-09 2012-12-09         0        4   \n",
       "\n",
       "  deaths_civilians  deaths_unknown best low  high  \n",
       "0                0               0    2   2     2  \n",
       "1                0               0    0   0     2  \n",
       "2                0               0    0   0     1  \n",
       "3                0               0    5   5     5  \n",
       "4                1               0    5   5     5  \n",
       "\n",
       "[5 rows x 26 columns]"
      ]
     },
     "execution_count": 61,
     "metadata": {},
     "output_type": "execute_result"
    }
   ],
   "source": [
    "df_cace.head()"
   ]
  },
  {
   "cell_type": "code",
   "execution_count": 62,
   "id": "93ed4003",
   "metadata": {},
   "outputs": [
    {
     "name": "stdout",
     "output_type": "stream",
     "text": [
      "<class 'pandas.core.frame.DataFrame'>\n",
      "Index: 141513 entries, 0 to 142901\n",
      "Data columns (total 26 columns):\n",
      " #   Column            Non-Null Count   Dtype         \n",
      "---  ------            --------------   -----         \n",
      " 0   active_year       141513 non-null  int64         \n",
      " 1   type_of_violence  141513 non-null  int64         \n",
      " 2   dyad_name         141513 non-null  object        \n",
      " 3   side_a            141513 non-null  object        \n",
      " 4   side_b            141513 non-null  object        \n",
      " 5   City              141513 non-null  int8          \n",
      " 6   CACE cityname     141513 non-null  object        \n",
      " 7   Capital           141513 non-null  int8          \n",
      " 8   Majorcity         141513 non-null  int8          \n",
      " 9   Top3cities        141513 non-null  int8          \n",
      " 10  adm_1             141513 non-null  object        \n",
      " 11  adm_2             141513 non-null  object        \n",
      " 12  latitude          141513 non-null  float64       \n",
      " 13  longitude         141513 non-null  float64       \n",
      " 14  country           141513 non-null  object        \n",
      " 15  region            141513 non-null  object        \n",
      " 16  year              141513 non-null  int64         \n",
      " 17  date_start        141513 non-null  datetime64[ns]\n",
      " 18  date_end          141513 non-null  datetime64[ns]\n",
      " 19  deaths_a          141513 non-null  int64         \n",
      " 20  deaths_b          141513 non-null  int64         \n",
      " 21  deaths_civilians  141513 non-null  int64         \n",
      " 22  deaths_unknown    141513 non-null  int64         \n",
      " 23  best              141513 non-null  int64         \n",
      " 24  low               141513 non-null  int64         \n",
      " 25  high              141513 non-null  int64         \n",
      "dtypes: datetime64[ns](2), float64(2), int64(10), int8(4), object(8)\n",
      "memory usage: 25.4+ MB\n"
     ]
    }
   ],
   "source": [
    "df_cace.info()"
   ]
  },
  {
   "cell_type": "markdown",
   "id": "438d5424",
   "metadata": {},
   "source": [
    "#### g. Consistencia de datos"
   ]
  },
  {
   "cell_type": "code",
   "execution_count": 63,
   "id": "a07392ad",
   "metadata": {},
   "outputs": [
    {
     "name": "stdout",
     "output_type": "stream",
     "text": [
      "Valores negativos por columna:\n",
      "deaths_a            0\n",
      "deaths_b            0\n",
      "deaths_civilians    0\n",
      "deaths_unknown      0\n",
      "best                0\n",
      "low                 0\n",
      "high                0\n",
      "dtype: int64\n",
      "\n",
      "Eventos con fecha de inicio posterior a la fecha de fin: 0\n",
      "\n",
      "Coordenadas inválidas: 0\n"
     ]
    }
   ],
   "source": [
    "# Se verifica si existen valores negativos en features que deberían tener enteros no negativos.\n",
    "\n",
    "columnasVictimas = ['deaths_a', 'deaths_b', 'deaths_civilians', 'deaths_unknown', 'best', 'low', 'high']\n",
    "negativos = df_cace[columnasVictimas] < 0\n",
    "print(\"Valores negativos por columna:\")\n",
    "print(negativos.sum())\n",
    "\n",
    "# Verificar fechas: inicio <= fin\n",
    "fechas_invalidas = df_cace['date_start'] > df_cace['date_end']\n",
    "print('')\n",
    "print(f\"Eventos con fecha de inicio posterior a la fecha de fin: {fechas_invalidas.sum()}\")\n",
    "\n",
    "# Verificar coordenadas válidas\n",
    "coordenadasInvalidas = ((df_cace['latitude'] < -90) | (df_cace['latitude'] > 90) |\n",
    "                         (df_cace['longitude'] < -180) | (df_cace['longitude'] > 180))\n",
    "print('')\n",
    "print(f\"Coordenadas inválidas: {coordenadasInvalidas.sum()}\")"
   ]
  },
  {
   "cell_type": "markdown",
   "id": "4f069543",
   "metadata": {},
   "source": [
    "#### h. Ajuste de los tipos de datos"
   ]
  },
  {
   "cell_type": "code",
   "execution_count": 64,
   "id": "2f4e7e11",
   "metadata": {},
   "outputs": [
    {
     "name": "stdout",
     "output_type": "stream",
     "text": [
      "<class 'pandas.core.frame.DataFrame'>\n",
      "Index: 141513 entries, 0 to 142901\n",
      "Data columns (total 26 columns):\n",
      " #   Column            Non-Null Count   Dtype         \n",
      "---  ------            --------------   -----         \n",
      " 0   active_year       141513 non-null  category      \n",
      " 1   type_of_violence  141513 non-null  category      \n",
      " 2   dyad_name         141513 non-null  category      \n",
      " 3   side_a            141513 non-null  category      \n",
      " 4   side_b            141513 non-null  category      \n",
      " 5   City              141513 non-null  category      \n",
      " 6   CACE cityname     141513 non-null  category      \n",
      " 7   Capital           141513 non-null  category      \n",
      " 8   Majorcity         141513 non-null  category      \n",
      " 9   Top3cities        141513 non-null  category      \n",
      " 10  adm_1             141513 non-null  category      \n",
      " 11  adm_2             141513 non-null  category      \n",
      " 12  latitude          141513 non-null  float64       \n",
      " 13  longitude         141513 non-null  float64       \n",
      " 14  country           141513 non-null  category      \n",
      " 15  region            141513 non-null  category      \n",
      " 16  year              141513 non-null  int64         \n",
      " 17  date_start        141513 non-null  datetime64[ns]\n",
      " 18  date_end          141513 non-null  datetime64[ns]\n",
      " 19  deaths_a          141513 non-null  int64         \n",
      " 20  deaths_b          141513 non-null  int64         \n",
      " 21  deaths_civilians  141513 non-null  int64         \n",
      " 22  deaths_unknown    141513 non-null  int64         \n",
      " 23  best              141513 non-null  int64         \n",
      " 24  low               141513 non-null  int64         \n",
      " 25  high              141513 non-null  int64         \n",
      "dtypes: category(14), datetime64[ns](2), float64(2), int64(8)\n",
      "memory usage: 17.2 MB\n"
     ]
    }
   ],
   "source": [
    "# Categorías nominales\n",
    "nominales = ['dyad_name', 'side_a', 'side_b', 'CACE cityname', 'adm_1', 'adm_2', 'country', 'region', 'type_of_violence']\n",
    "df_cace[nominales] = df_cace[nominales].astype('category')\n",
    "\n",
    "# Categorías ordinales\n",
    "ordinales = ['City', 'Capital', 'Majorcity', 'Top3cities', 'active_year']\n",
    "df_cace[ordinales] = df_cace[ordinales].astype('category')\n",
    "\n",
    "df_cace.info()"
   ]
  },
  {
   "cell_type": "markdown",
   "id": "f68a6db1",
   "metadata": {},
   "source": [
    "## 3. Análisis exploratorio de datos"
   ]
  },
  {
   "cell_type": "code",
   "execution_count": 65,
   "id": "eac77a34",
   "metadata": {},
   "outputs": [
    {
     "data": {
      "text/html": [
       "<div>\n",
       "<style scoped>\n",
       "    .dataframe tbody tr th:only-of-type {\n",
       "        vertical-align: middle;\n",
       "    }\n",
       "\n",
       "    .dataframe tbody tr th {\n",
       "        vertical-align: top;\n",
       "    }\n",
       "\n",
       "    .dataframe thead th {\n",
       "        text-align: right;\n",
       "    }\n",
       "</style>\n",
       "<table border=\"1\" class=\"dataframe\">\n",
       "  <thead>\n",
       "    <tr style=\"text-align: right;\">\n",
       "      <th></th>\n",
       "      <th>active_year</th>\n",
       "      <th>type_of_violence</th>\n",
       "      <th>dyad_name</th>\n",
       "      <th>side_a</th>\n",
       "      <th>side_b</th>\n",
       "      <th>City</th>\n",
       "      <th>CACE cityname</th>\n",
       "      <th>Capital</th>\n",
       "      <th>Majorcity</th>\n",
       "      <th>Top3cities</th>\n",
       "      <th>adm_1</th>\n",
       "      <th>adm_2</th>\n",
       "      <th>country</th>\n",
       "      <th>region</th>\n",
       "    </tr>\n",
       "  </thead>\n",
       "  <tbody>\n",
       "    <tr>\n",
       "      <th>count</th>\n",
       "      <td>141513</td>\n",
       "      <td>141513</td>\n",
       "      <td>141513</td>\n",
       "      <td>141513</td>\n",
       "      <td>141513</td>\n",
       "      <td>141513</td>\n",
       "      <td>141513</td>\n",
       "      <td>141513</td>\n",
       "      <td>141513</td>\n",
       "      <td>141513</td>\n",
       "      <td>141513</td>\n",
       "      <td>141513</td>\n",
       "      <td>141513</td>\n",
       "      <td>141513</td>\n",
       "    </tr>\n",
       "    <tr>\n",
       "      <th>unique</th>\n",
       "      <td>2</td>\n",
       "      <td>3</td>\n",
       "      <td>1239</td>\n",
       "      <td>696</td>\n",
       "      <td>710</td>\n",
       "      <td>2</td>\n",
       "      <td>981</td>\n",
       "      <td>2</td>\n",
       "      <td>2</td>\n",
       "      <td>2</td>\n",
       "      <td>1416</td>\n",
       "      <td>6425</td>\n",
       "      <td>118</td>\n",
       "      <td>5</td>\n",
       "    </tr>\n",
       "    <tr>\n",
       "      <th>top</th>\n",
       "      <td>1</td>\n",
       "      <td>1</td>\n",
       "      <td>Government of Afghanistan - Taleban</td>\n",
       "      <td>Government of Afghanistan</td>\n",
       "      <td>Civilians</td>\n",
       "      <td>0</td>\n",
       "      <td></td>\n",
       "      <td>0</td>\n",
       "      <td>0</td>\n",
       "      <td>0</td>\n",
       "      <td>Jammu and Kashmir State</td>\n",
       "      <td></td>\n",
       "      <td>Afghanistan</td>\n",
       "      <td>Asia</td>\n",
       "    </tr>\n",
       "    <tr>\n",
       "      <th>freq</th>\n",
       "      <td>134389</td>\n",
       "      <td>100004</td>\n",
       "      <td>21237</td>\n",
       "      <td>23807</td>\n",
       "      <td>29302</td>\n",
       "      <td>117033</td>\n",
       "      <td>117033</td>\n",
       "      <td>134420</td>\n",
       "      <td>132823</td>\n",
       "      <td>130237</td>\n",
       "      <td>7626</td>\n",
       "      <td>36735</td>\n",
       "      <td>25116</td>\n",
       "      <td>67505</td>\n",
       "    </tr>\n",
       "  </tbody>\n",
       "</table>\n",
       "</div>"
      ],
      "text/plain": [
       "        active_year  type_of_violence                            dyad_name  \\\n",
       "count        141513            141513                               141513   \n",
       "unique            2                 3                                 1239   \n",
       "top               1                 1  Government of Afghanistan - Taleban   \n",
       "freq         134389            100004                                21237   \n",
       "\n",
       "                           side_a     side_b    City CACE cityname  Capital  \\\n",
       "count                      141513     141513  141513        141513   141513   \n",
       "unique                        696        710       2           981        2   \n",
       "top     Government of Afghanistan  Civilians       0                      0   \n",
       "freq                        23807      29302  117033        117033   134420   \n",
       "\n",
       "        Majorcity  Top3cities                    adm_1   adm_2      country  \\\n",
       "count      141513      141513                   141513  141513       141513   \n",
       "unique          2           2                     1416    6425          118   \n",
       "top             0           0  Jammu and Kashmir State          Afghanistan   \n",
       "freq       132823      130237                     7626   36735        25116   \n",
       "\n",
       "        region  \n",
       "count   141513  \n",
       "unique       5  \n",
       "top       Asia  \n",
       "freq     67505  "
      ]
     },
     "execution_count": 65,
     "metadata": {},
     "output_type": "execute_result"
    }
   ],
   "source": [
    "df_cace.describe(include='category')"
   ]
  },
  {
   "cell_type": "markdown",
   "id": "9e36108f",
   "metadata": {},
   "source": [
    "En la descripción general, se pueden destacar los siguientes puntos:\n",
    "\n",
    "- De las entidades participantes, las que tienen mas eventos son:\n",
    "  - El gobierno de Afganistan (puede deberse a conflictos bélicos)\n",
    "  - Civiles (atentados o daños colaterales)\n",
    "- El conflicto (diada o par de entidades) que tiene mas eventos es entre el gobiernos de Afganistán y los talibanes.\n",
    "- En base a lo anterior, es lógico que el país y continente con mas eventos sea Afganistan y Asia.\n"
   ]
  },
  {
   "cell_type": "markdown",
   "id": "530ec0ae",
   "metadata": {},
   "source": [
    "#### b. Entidades participantes"
   ]
  },
  {
   "cell_type": "code",
   "execution_count": 66,
   "id": "35cf928b",
   "metadata": {},
   "outputs": [
    {
     "data": {
      "text/plain": [
       "side_a\n",
       "Government of Afghanistan              23807\n",
       "Government of India                    10257\n",
       "Government of Iraq                      5414\n",
       "Government of Turkey                    4538\n",
       "Government of Nepal                     4490\n",
       "Government of Sri Lanka                 4167\n",
       "Government of Pakistan                  4031\n",
       "Government of Algeria                   3778\n",
       "Government of Russia (Soviet Union)     3561\n",
       "Government of Colombia                  3466\n",
       "Name: count, dtype: int64"
      ]
     },
     "execution_count": 66,
     "metadata": {},
     "output_type": "execute_result"
    }
   ],
   "source": [
    "# Primeras 10 entidades que inician el evento (o atacan) que mas se repiten\n",
    "df_cace['side_a'].value_counts().head(10)"
   ]
  },
  {
   "cell_type": "code",
   "execution_count": 67,
   "id": "79f7abb0",
   "metadata": {},
   "outputs": [
    {
     "data": {
      "text/plain": [
       "side_b\n",
       "Civilians             29302\n",
       "Taleban               21372\n",
       "IS                     6470\n",
       "Kashmir insurgents     5837\n",
       "PKK                    4469\n",
       "LTTE                   4001\n",
       "CPN-M                  3669\n",
       "TTP                    3553\n",
       "FARC                   2864\n",
       "Al-Shabaab             2817\n",
       "Name: count, dtype: int64"
      ]
     },
     "execution_count": 67,
     "metadata": {},
     "output_type": "execute_result"
    }
   ],
   "source": [
    "# Primeras 10 entidades que son atacadas que mas se repiten\n",
    "df_cace['side_b'].value_counts().head(10)"
   ]
  },
  {
   "cell_type": "code",
   "execution_count": 68,
   "id": "67053c95",
   "metadata": {},
   "outputs": [
    {
     "data": {
      "text/plain": [
       "dyad_name\n",
       "Government of Afghanistan - Taleban         21237\n",
       "Government of India - Kashmir insurgents     5837\n",
       "Government of Iraq - IS                      4621\n",
       "Government of Turkey - PKK                   4434\n",
       "Government of Sri Lanka - LTTE               3993\n",
       "Government of Nepal - CPN-M                  3669\n",
       "Government of Pakistan - TTP                 3489\n",
       "Government of Colombia - FARC                2729\n",
       "Government of Somalia - Al-Shabaab           2678\n",
       "Government of Algeria - AQIM                 1816\n",
       "Name: count, dtype: int64"
      ]
     },
     "execution_count": 68,
     "metadata": {},
     "output_type": "execute_result"
    }
   ],
   "source": [
    "# Primeros 10 par de actores enfretados en un evento\n",
    "df_cace['dyad_name'].value_counts().head(10)"
   ]
  },
  {
   "cell_type": "code",
   "execution_count": null,
   "id": "f8477881",
   "metadata": {},
   "outputs": [],
   "source": []
  }
 ],
 "metadata": {
  "kernelspec": {
   "display_name": "env311",
   "language": "python",
   "name": "python3"
  },
  "language_info": {
   "codemirror_mode": {
    "name": "ipython",
    "version": 3
   },
   "file_extension": ".py",
   "mimetype": "text/x-python",
   "name": "python",
   "nbconvert_exporter": "python",
   "pygments_lexer": "ipython3",
   "version": "3.11.13"
  }
 },
 "nbformat": 4,
 "nbformat_minor": 5
}
