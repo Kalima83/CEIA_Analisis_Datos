{
 "cells": [
  {
   "cell_type": "markdown",
   "id": "af2fe349",
   "metadata": {},
   "source": [
    "# Trabajo Práctico Integrador 1\n",
    "\n",
    "## Análisis de datos\n",
    "\n",
    "#### Integrantes\n",
    "- Daniel Bazan\n",
    "- Santiago Casado"
   ]
  },
  {
   "cell_type": "markdown",
   "id": "0c21c868",
   "metadata": {},
   "source": [
    "##| 1. Dataset seleccionado\n",
    "\n",
    "### **Conflictos armados en ciudades (Cities and Armed Conflict Events, CACE)**\n",
    "\n",
    "** explicar el dataset **\n",
    "\n",
    "** info para descargar desde la api"
   ]
  },
  {
   "cell_type": "code",
   "execution_count": 77,
   "id": "0e2f3053",
   "metadata": {},
   "outputs": [],
   "source": [
    "import pandas as pd\n",
    "from bs4 import BeautifulSoup\n",
    "from sqlalchemy import create_engine, MetaData, text\n",
    "import json\n",
    "from io import StringIO"
   ]
  },
  {
   "cell_type": "markdown",
   "id": "c1e5c658",
   "metadata": {},
   "source": [
    "#### a. Descargar el dataset a través de la página oficial\n",
    "\n",
    "Observando el archivo, se tuvo que agregar el delimitador \";\" para poder importarlo correctamente."
   ]
  },
  {
   "cell_type": "code",
   "execution_count": 89,
   "id": "8cba13c7",
   "metadata": {},
   "outputs": [
    {
     "name": "stderr",
     "output_type": "stream",
     "text": [
      "/var/folders/_f/7gqqb6190c9b0h_7dkhypsj80000gn/T/ipykernel_1223/2020675959.py:4: DtypeWarning: Columns (8,15,17,18,19,20,43) have mixed types. Specify dtype option on import or set low_memory=False.\n",
      "  df = pd.read_csv(path, delimiter=';')\n"
     ]
    }
   ],
   "source": [
    "path = \"dataset/CACE_1989-2017.csv\"\n",
    "\n",
    "# df = pd.read_csv(path, delimiter=';', low_memory=False)\n",
    "df = pd.read_csv(path, delimiter=';')"
   ]
  },
  {
   "cell_type": "markdown",
   "id": "f687ce74",
   "metadata": {},
   "source": [
    "## 2. Análisis exploratorio de datos"
   ]
  },
  {
   "cell_type": "markdown",
   "id": "063cbd1c",
   "metadata": {},
   "source": [
    "#### a. Columnas y tipos de datos"
   ]
  },
  {
   "cell_type": "code",
   "execution_count": 88,
   "id": "cb965d89",
   "metadata": {},
   "outputs": [
    {
     "data": {
      "text/plain": [
       "Index(['id', 'active_year', 'type_of_violence', 'conflict_new_id',\n",
       "       'conflict_name', 'dyad_new_id', 'dyad_name', 'side_a_new_id', 'gwnoa',\n",
       "       'side_a', 'side_b_new_id', 'gwnob', 'side_b', 'where_prec',\n",
       "       'where_coordinates', 'City', 'CACE cityname', 'Capital', 'Majorcity',\n",
       "       'Top3cities', 'Comment', 'adm_1', 'adm_2', 'latitude', 'longitude',\n",
       "       'geom_wkt', 'priogrid_gid', 'country', 'country_id', 'region',\n",
       "       'event_clarity', 'date_prec', 'year', 'date_start', 'date_end',\n",
       "       'deaths_a', 'deaths_b', 'deaths_civilians', 'deaths_unknown', 'best',\n",
       "       'low', 'high', 'Unnamed: 42', 'Unnamed: 43'],\n",
       "      dtype='object')"
      ]
     },
     "execution_count": 88,
     "metadata": {},
     "output_type": "execute_result"
    }
   ],
   "source": [
    "df.columns"
   ]
  },
  {
   "cell_type": "markdown",
   "id": "64ecfcf8",
   "metadata": {},
   "source": [
    "#### b. Detalles de las columnas del dataset\n",
    "\n",
    "**Fecha**\n",
    "| Columna       | Descripción                                                |\n",
    "| ------------- | ---------------------------------------------------------- |\n",
    "| `active_year` | Estado del conflicto en ese año (1 = activo, 0 = no activo) |\n",
    "| `year`        | Año del evento |\n",
    "| `date_start`  | Fecha de inicio del evento |\n",
    "| `date_end`    | Fecha de fin del evento |\n",
    "| `date_prec`   | Precisión de la fecha (1 = exacta, 5 = mas de un mes, menos de un año)|\n",
    "\n",
    "**Ubicacion**\n",
    "| Columna             | Descripción                                                          |\n",
    "| ------------------- | -------------------------------------------------------------------- |\n",
    "| `where_prec`        | Precisión de la ubicación geográfica (1 = exacta, 3 = incierta) |\n",
    "| `where_coordinates` | Nombre del lugar del evento |\n",
    "| `adm_1`             | División administrativa de primer nivel (estado, provincia, etc) |\n",
    "| `adm_2`             | División administrativa de segundo nivel (municipio, distrito, etc)|\n",
    "| `latitude`          | Latitud del evento |\n",
    "| `longitude`         | Longitud del evento |\n",
    "| `geom_wkt`          | Representación geográfica en formato WKT|\n",
    "| `priogrid_gid`      | ID de celda espacial de 0.5° x 0.5° (Priogrid)|\n",
    "| `country`           | Nombre del país |\n",
    "| `country_id`        | Código del país según Gleditsch & Ward |\n",
    "| `region`            | Región geográfica amplia (America, Asia, etc.)|\n",
    "| `City`              | 1 = ocurrió en ciudad (>100.000 hab.), 0 = no |\n",
    "| `CACE cityname`     | Nombre de la ciudad si es evento urbano según ONU |\n",
    "| `Capital`           | 1 = ocurrió en capital nacional |\n",
    "| `Majorcity`         | 1 = ocurrió en ciudad de más de 750.000 habitantes |\n",
    "| `Top3cities`        | Indica si ocurrió en una de las tres ciudades más grandes del país|\n",
    "\n",
    "**Entidades participantes**\n",
    "| Columna            | Descripción                                                     |\n",
    "| ------------------ | --------------------------------------------------------------- |\n",
    "| `type_of_violence` | Tipo de violencia: 1 = estatal, 2 = no estatal, 3 = unilateral  |\n",
    "| `conflict_new_id`  | ID conflicto |\n",
    "| `conflict_name`    | Nombre del conflicto |\n",
    "| `dyad_new_id`      | ID de la díada (relación entre dos actores)|\n",
    "| `dyad_name`        | Par de actores que interactúan entre sí|\n",
    "| `side_a_new_id`    | ID del actor A |\n",
    "| `gwnoa`            | Código de país del actor A|\n",
    "| `side_a`           | Nombre del actor A|\n",
    "| `side_b_new_id`    | ID del actor B|\n",
    "| `gwnob`            | Código de país del actor B|\n",
    "| `side_b`           | Nombre del actor B (puede ser vacío)|\n",
    "\n",
    "**Víctimas**\n",
    "| Columna            | Descripción                                          |\n",
    "| ------------------ | ---------------------------------------------------- |\n",
    "| `deaths_a`         | Muertes en el actor A |\n",
    "| `deaths_b`         | Muertes en el actor B |\n",
    "| `deaths_civilians` | Muertes de civiles |\n",
    "| `deaths_unknown`   | Muertes no clasificadas |\n",
    "| `best`             | Estimación central de muertes totales |\n",
    "| `low`              | Estimación mínima |\n",
    "| `high`             | Estimación máxima |\n",
    "\n",
    "**Datos prescindibles**\n",
    "| Columna         | Descripción                                                            |\n",
    "| --------------- | ---------------------------------------------------------------------- |\n",
    "| `id`            | ID general del evento |\n",
    "| `event_clarity` | Grado de certeza del evento (1 = claro, 3 = dudoso) |\n",
    "| `Comment`       | Comentarios |\n",
    "| `Unnamed: 42`   | Columna sin nombre |\n",
    "| `Unnamed: 43`   | Columna sin nombre |\n"
   ]
  },
  {
   "cell_type": "markdown",
   "id": "c83ccf08",
   "metadata": {},
   "source": [
    "1. Se revisan datos faltantes o duplicados"
   ]
  },
  {
   "cell_type": "code",
   "execution_count": 79,
   "id": "053c7402",
   "metadata": {},
   "outputs": [
    {
     "name": "stdout",
     "output_type": "stream",
     "text": [
      "Valores faltantes: id                        0\n",
      "active_year               0\n",
      "type_of_violence          0\n",
      "conflict_new_id           0\n",
      "conflict_name             0\n",
      "dyad_new_id               0\n",
      "dyad_name                 0\n",
      "side_a_new_id             0\n",
      "gwnoa                 32680\n",
      "side_a                    0\n",
      "side_b_new_id             0\n",
      "gwnob                142160\n",
      "side_b                    0\n",
      "where_prec                0\n",
      "where_coordinates         0\n",
      "City                      0\n",
      "CACE cityname        117996\n",
      "Capital                   0\n",
      "Majorcity                 0\n",
      "Top3cities                0\n",
      "Comment              142696\n",
      "adm_1                  7237\n",
      "adm_2                 37225\n",
      "latitude                  0\n",
      "longitude                 0\n",
      "geom_wkt                  0\n",
      "priogrid_gid              0\n",
      "country                   0\n",
      "country_id                0\n",
      "region                    0\n",
      "event_clarity             0\n",
      "date_prec                 0\n",
      "year                      0\n",
      "date_start                0\n",
      "date_end                  0\n",
      "deaths_a                  0\n",
      "deaths_b                  0\n",
      "deaths_civilians          0\n",
      "deaths_unknown            0\n",
      "best                      0\n",
      "low                       0\n",
      "high                      0\n",
      "Unnamed: 42          142902\n",
      "Unnamed: 43          142901\n",
      "dtype: int64\n"
     ]
    }
   ],
   "source": [
    "print(f\"Valores faltantes: {df.isna().sum()}\")  # Calcular valores faltantes"
   ]
  },
  {
   "cell_type": "code",
   "execution_count": 80,
   "id": "a2e0905e",
   "metadata": {},
   "outputs": [
    {
     "data": {
      "text/plain": [
       "id                     0.0\n",
       "active_year            0.0\n",
       "type_of_violence       0.0\n",
       "conflict_new_id        0.0\n",
       "conflict_name          0.0\n",
       "dyad_new_id            0.0\n",
       "dyad_name              0.0\n",
       "side_a_new_id          0.0\n",
       "gwnoa                 23.0\n",
       "side_a                 0.0\n",
       "side_b_new_id          0.0\n",
       "gwnob                 99.0\n",
       "side_b                 0.0\n",
       "where_prec             0.0\n",
       "where_coordinates      0.0\n",
       "City                   0.0\n",
       "CACE cityname         83.0\n",
       "Capital                0.0\n",
       "Majorcity              0.0\n",
       "Top3cities             0.0\n",
       "Comment              100.0\n",
       "adm_1                  5.0\n",
       "adm_2                 26.0\n",
       "latitude               0.0\n",
       "longitude              0.0\n",
       "geom_wkt               0.0\n",
       "priogrid_gid           0.0\n",
       "country                0.0\n",
       "country_id             0.0\n",
       "region                 0.0\n",
       "event_clarity          0.0\n",
       "date_prec              0.0\n",
       "year                   0.0\n",
       "date_start             0.0\n",
       "date_end               0.0\n",
       "deaths_a               0.0\n",
       "deaths_b               0.0\n",
       "deaths_civilians       0.0\n",
       "deaths_unknown         0.0\n",
       "best                   0.0\n",
       "low                    0.0\n",
       "high                   0.0\n",
       "Unnamed: 42          100.0\n",
       "Unnamed: 43          100.0\n",
       "dtype: float64"
      ]
     },
     "execution_count": 80,
     "metadata": {},
     "output_type": "execute_result"
    }
   ],
   "source": [
    "# Calcular la proporción de valores nulos en cada columna\n",
    "df.isna().mean().round(2)*100"
   ]
  },
  {
   "cell_type": "code",
   "execution_count": 81,
   "id": "ec7001f8",
   "metadata": {},
   "outputs": [
    {
     "name": "stdout",
     "output_type": "stream",
     "text": [
      "Cantidad de datos duplicados: 0\n"
     ]
    }
   ],
   "source": [
    "print(\"Cantidad de datos duplicados:\", df.duplicated().sum())"
   ]
  },
  {
   "cell_type": "markdown",
   "id": "e8b8f969",
   "metadata": {},
   "source": [
    "2. Correción de tipo de datos\n",
    "\n",
    "La libreria Pandas detecta que mas de una columna tiene datos de diferente tipo. Se identifican cada una y se unifica:"
   ]
  },
  {
   "cell_type": "code",
   "execution_count": 82,
   "id": "b89c7d7b",
   "metadata": {},
   "outputs": [
    {
     "name": "stdout",
     "output_type": "stream",
     "text": [
      "\n",
      " Columna 8: gwnoa\n",
      "Tipos encontrados: [<class 'float'> <class 'str'>]\n",
      "  - Tipo <class 'float'>: [678.0, 678.0]\n",
      "  - Tipo <class 'str'>: ['790', '790']\n",
      "\n",
      " Columna 15: City\n",
      "Tipos encontrados: [<class 'int'> <class 'str'>]\n",
      "  - Tipo <class 'int'>: [1, 1]\n",
      "  - Tipo <class 'str'>: ['0', '0']\n",
      "\n",
      " Columna 16: CACE cityname\n",
      "Tipos encontrados: [<class 'str'> <class 'float'>]\n",
      "  - Tipo <class 'str'>: ['Şan‘ā’', '‘Adan ']\n",
      "  - Tipo <class 'float'>: [nan, nan]\n",
      "\n",
      " Columna 17: Capital\n",
      "Tipos encontrados: [<class 'int'> <class 'str'>]\n",
      "  - Tipo <class 'int'>: [1, 0]\n",
      "  - Tipo <class 'str'>: ['0', '0']\n",
      "\n",
      " Columna 18: Majorcity\n",
      "Tipos encontrados: [<class 'int'> <class 'str'>]\n",
      "  - Tipo <class 'int'>: [1, 0]\n",
      "  - Tipo <class 'str'>: ['0', '0']\n",
      "\n",
      " Columna 19: Top3cities\n",
      "Tipos encontrados: [<class 'int'> <class 'str'>]\n",
      "  - Tipo <class 'int'>: [1, 0]\n",
      "  - Tipo <class 'str'>: ['0', '0']\n",
      "\n",
      " Columna 20: Comment\n",
      "Tipos encontrados: [<class 'float'> <class 'str'>]\n",
      "  - Tipo <class 'float'>: [nan, nan]\n",
      "  - Tipo <class 'str'>: ['Note: coordinates for Ghardaïa town', 'Note: coordinates for Jijel town']\n",
      "\n",
      " Columna 21: adm_1\n",
      "Tipos encontrados: [<class 'str'> <class 'float'>]\n",
      "  - Tipo <class 'str'>: ['Am?nat al ‘??imah governorate', '‘Adan governorate']\n",
      "  - Tipo <class 'float'>: [nan, nan]\n",
      "\n",
      " Columna 22: adm_2\n",
      "Tipos encontrados: [<class 'float'> <class 'str'>]\n",
      "  - Tipo <class 'float'>: [nan, nan]\n",
      "  - Tipo <class 'str'>: ['Ma’rib district', '‘Ataq district']\n",
      "\n",
      " Columna 43: Unnamed: 43\n",
      "Tipos encontrados: [<class 'float'> <class 'str'>]\n",
      "  - Tipo <class 'float'>: [nan, nan]\n",
      "  - Tipo <class 'str'>: [' ']\n"
     ]
    }
   ],
   "source": [
    "mixed_columns = []\n",
    "\n",
    "i = 0\n",
    "for col in df.columns:\n",
    "    unique_types = df[col].apply(type).unique()\n",
    "    if len(unique_types) > 1:\n",
    "        mixed_columns.append(col)\n",
    "        print(f\"\\n Columna {i}: {col}\")\n",
    "        print(\"Tipos encontrados:\", unique_types)\n",
    "        \n",
    "        #Mostrar 2 ejemplos para cada columna con mas de un tipo de dato\n",
    "        for dtype in unique_types:\n",
    "            examples = df[df[col].apply(lambda x: type(x) == dtype)][col].head(2).tolist()\n",
    "            print(f\"  - Tipo {dtype}: {examples}\")\n",
    "\n",
    "    i += 1"
   ]
  },
  {
   "cell_type": "code",
   "execution_count": 83,
   "id": "f851db02",
   "metadata": {},
   "outputs": [
    {
     "name": "stdout",
     "output_type": "stream",
     "text": [
      "\n",
      "Tipos unificados:\n",
      "id                            int64\n",
      "active_year                   int64\n",
      "type_of_violence              int64\n",
      "conflict_new_id               int64\n",
      "conflict_name                object\n",
      "dyad_new_id                   int64\n",
      "dyad_name                    object\n",
      "side_a_new_id                 int64\n",
      "gwnoa                         Int64\n",
      "side_a                       object\n",
      "side_b_new_id                 int64\n",
      "gwnob                       float64\n",
      "side_b                       object\n",
      "where_prec                    int64\n",
      "where_coordinates            object\n",
      "City                           int8\n",
      "CACE cityname                object\n",
      "Capital                        int8\n",
      "Majorcity                      int8\n",
      "Top3cities                     int8\n",
      "Comment                      object\n",
      "adm_1                        object\n",
      "adm_2                        object\n",
      "latitude                    float64\n",
      "longitude                   float64\n",
      "geom_wkt                     object\n",
      "priogrid_gid                  int64\n",
      "country                      object\n",
      "country_id                    int64\n",
      "region                       object\n",
      "event_clarity                 int64\n",
      "date_prec                     int64\n",
      "year                          int64\n",
      "date_start           datetime64[ns]\n",
      "date_end             datetime64[ns]\n",
      "deaths_a                      int64\n",
      "deaths_b                      int64\n",
      "deaths_civilians              int64\n",
      "deaths_unknown                int64\n",
      "best                          int64\n",
      "low                           int64\n",
      "high                          int64\n",
      "Unnamed: 42                 float64\n",
      "Unnamed: 43                  object\n",
      "dtype: object\n"
     ]
    }
   ],
   "source": [
    "# Columnas numéricas\n",
    "import datetime\n",
    "\n",
    "df['gwnoa'] = pd.to_numeric(df['gwnoa'], errors='coerce').astype('Int64')\n",
    "\n",
    "# Columnas binarias\n",
    "binary_cols = ['City', 'Capital', 'Majorcity', 'Top3cities']\n",
    "\n",
    "for col in binary_cols:\n",
    "    # Reemplazar valores conocidos\n",
    "    df[col] = df[col].replace({\n",
    "        '0': 0, '1': 1,\n",
    "        0: 0, 1: 1,\n",
    "        'True': 1, 'False': 0,\n",
    "        True: 1, False: 0\n",
    "    })\n",
    "    \n",
    "    # Convertir otros valores a NaN\n",
    "    df[col] = pd.to_numeric(df[col], errors='coerce')\n",
    "    \n",
    "    # Rellenar NaN con 0 o 1 según sea apropiado\n",
    "    df[col] = df[col].fillna(0).astype('int8')\n",
    "\n",
    "# Columnas de texto\n",
    "text_cols = ['conflict_name', 'dyad_name', 'side_a', 'side_b', 'where_coordinates',  'CACE cityname', 'Comment', 'adm_1', 'adm_2', 'geom_wkt', 'country', 'region']\n",
    "for col in text_cols:\n",
    "    df[col] = df[col].fillna('').astype(str)\n",
    "\n",
    "# Columnas de fechas\n",
    "date_cols = ['date_start', 'date_end']\n",
    "for col in date_cols:\n",
    "    df[col] = pd.to_datetime(df[col])\n",
    "\n",
    "print(\"\\nTipos unificados:\")\n",
    "print(df.dtypes)"
   ]
  },
  {
   "cell_type": "markdown",
   "id": "bab63168",
   "metadata": {},
   "source": [
    "3. Eliminación de features."
   ]
  },
  {
   "cell_type": "code",
   "execution_count": 84,
   "id": "8aee2e8f",
   "metadata": {},
   "outputs": [
    {
     "name": "stdout",
     "output_type": "stream",
     "text": [
      "Columnas vacías eliminadas: ['Unnamed: 42']\n"
     ]
    }
   ],
   "source": [
    "# Eliminar columnas vacías\n",
    "columnas_nulas = df.columns[df.isna().all()]\n",
    "\n",
    "# Eliminarlas\n",
    "df.drop(columns=columnas_nulas, inplace = True)\n",
    "\n",
    "print(f\"Columnas vacías eliminadas: {columnas_nulas.tolist()}\")"
   ]
  },
  {
   "cell_type": "code",
   "execution_count": 85,
   "id": "9fb5a6f3",
   "metadata": {},
   "outputs": [],
   "source": [
    "# Eliminar columnas que contengan IDs\n",
    "columnas_id = ['id', 'conflict_new_id', 'dyad_new_id', 'side_a_new_id', 'side_b_new_id', 'country_id']\n",
    "\n",
    "for col in columnas_id:\n",
    "    df.drop(columns=col, inplace = True)"
   ]
  },
  {
   "cell_type": "code",
   "execution_count": 86,
   "id": "f493fbd0",
   "metadata": {},
   "outputs": [
    {
     "name": "stdout",
     "output_type": "stream",
     "text": [
      "Index(['active_year', 'type_of_violence', 'conflict_name', 'dyad_name',\n",
      "       'gwnoa', 'side_a', 'gwnob', 'side_b', 'where_prec', 'where_coordinates',\n",
      "       'City', 'CACE cityname', 'Capital', 'Majorcity', 'Top3cities',\n",
      "       'Comment', 'adm_1', 'adm_2', 'latitude', 'longitude', 'geom_wkt',\n",
      "       'priogrid_gid', 'country', 'region', 'event_clarity', 'date_prec',\n",
      "       'year', 'date_start', 'date_end', 'deaths_a', 'deaths_b',\n",
      "       'deaths_civilians', 'deaths_unknown', 'best', 'low', 'high',\n",
      "       'Unnamed: 43'],\n",
      "      dtype='object')\n"
     ]
    }
   ],
   "source": [
    "print(df.columns)"
   ]
  },
  {
   "cell_type": "code",
   "execution_count": null,
   "id": "9760c0eb",
   "metadata": {},
   "outputs": [],
   "source": []
  }
 ],
 "metadata": {
  "kernelspec": {
   "display_name": "env311",
   "language": "python",
   "name": "python3"
  },
  "language_info": {
   "codemirror_mode": {
    "name": "ipython",
    "version": 3
   },
   "file_extension": ".py",
   "mimetype": "text/x-python",
   "name": "python",
   "nbconvert_exporter": "python",
   "pygments_lexer": "ipython3",
   "version": "3.11.13"
  }
 },
 "nbformat": 4,
 "nbformat_minor": 5
}
